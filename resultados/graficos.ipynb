{
 "cells": [
  {
   "cell_type": "markdown",
   "metadata": {},
   "source": [
    "# Graficos"
   ]
  },
  {
   "cell_type": "code",
   "execution_count": null,
   "metadata": {},
   "outputs": [],
   "source": [
    "import pandas as pd\n",
    "import numpy as np\n",
    "import seaborn as sns\n",
    "import matplotlib.pyplot as plt\n",
    "from matplotlib.font_manager import FontProperties\n",
    "from matplotlib.ticker import ScalarFormatter\n",
    "import scipy.stats as st\n",
    "from scipy import stats\n",
    "from scipy.stats import linregress\n",
    "import csv\n",
    "import os"
   ]
  },
  {
   "cell_type": "code",
   "execution_count": null,
   "metadata": {},
   "outputs": [],
   "source": [
    "results = 'results.csv'\n",
    "with open(results, 'r') as archivo:\n",
    "    lineas = archivo.readlines()\n",
    "if lineas:\n",
    "    lineas[0] = lineas[0].rstrip('\\n') + ','\n",
    "with open(results, 'w') as archivo:\n",
    "    archivo.writelines(lineas)"
   ]
  },
  {
   "cell_type": "code",
   "execution_count": null,
   "metadata": {},
   "outputs": [],
   "source": [
    "df = pd.read_csv('results.csv', sep=',')"
   ]
  },
  {
   "cell_type": "code",
   "execution_count": null,
   "metadata": {},
   "outputs": [],
   "source": [
    "filas = df.shape[0] + 1"
   ]
  },
  {
   "cell_type": "code",
   "execution_count": null,
   "metadata": {},
   "outputs": [],
   "source": [
    "x = df['U']\n",
    "qs = df['QuickSort']\n",
    "\n",
    "rs_columns = [f'RadixSort k={i}' for i in range(1, 24)]\n",
    "\n",
    "colores = ['b', 'g', 'r', 'c', 'm', 'palegreen', 'tab:blue', 'tab:orange', 'tab:green',\n",
    "           'tab:red', 'tab:purple', 'tab:brown', 'tab:pink', 'tab:gray', 'tab:olive',\n",
    "           'tab:cyan', 'darkred', 'darkblue', 'darkgreen', 'darkorange', 'indigo', 'violet', 'gold']\n",
    "\n",
    "\n",
    "plt.figure(figsize=(12, 8))\n",
    "plt.plot(x, qs, marker='o', linestyle='-', label=\"QuickSort\", color='k')\n",
    "\n",
    "for i, col_name in enumerate(rs_columns):\n",
    "    rs_data = df[col_name]\n",
    "    color = colores[i]\n",
    "    plt.plot(x, rs_data, marker='o', linestyle='-', label=col_name, color=color)\n",
    "\n",
    "legend_font = FontProperties(size=8)\n",
    "plt.legend(prop=legend_font, loc='upper left')\n",
    "\n",
    "plt.xlabel('Tamaño del universo u (escala logarítmica)')\n",
    "plt.ylabel('Tiempo de ordenamiento promedio (µs)')\n",
    "plt.title('Tiempos de ordenamiento promedio de los Algoritmos en función del tamaño del universo')\n",
    "\n",
    "\n",
    "plt.xscale('log', base=2)\n",
    "plt.yscale('linear')\n",
    "plt.ticklabel_format(style='plain', axis='y')\n",
    "\n",
    "plt.savefig('grafico_general.pdf')\n",
    "plt.show()"
   ]
  },
  {
   "cell_type": "code",
   "execution_count": null,
   "metadata": {},
   "outputs": [],
   "source": [
    "fig, axs = plt.subplots(1, 2, figsize=(20, 8))\n",
    "\n",
    "axs[0].plot(x, qs, marker='o', linestyle='-', label=\"QuickSort\", color='k')\n",
    "\n",
    "for i, col_name in enumerate(rs_columns):\n",
    "    rs_data = df[col_name]\n",
    "    color = colores[i]\n",
    "    axs[0].plot(x, rs_data, marker='o', linestyle='-', label=col_name, color=color)\n",
    "\n",
    "axs[0].set_xlabel('Tamaño del universo u (escala logarítmica)')\n",
    "axs[0].set_ylabel('Tiempo de ordenamiento promedio (µs)')\n",
    "axs[0].set_title('Tiempos de ordenamiento promedio de los Algoritmos (escala logarítmica)')\n",
    "\n",
    "axs[0].set_xscale('log', base=2)\n",
    "axs[0].set_yscale('linear')\n",
    "axs[0].ticklabel_format(style='plain', axis='y')\n",
    "\n",
    "legend_font = FontProperties(size=8)\n",
    "axs[0].legend(prop=legend_font, loc='upper left')\n",
    "\n",
    "axs[1].plot(x, qs, marker='o', linestyle='-', color='k')\n",
    "\n",
    "for i, col_name in enumerate(rs_columns):\n",
    "    rs_data = df[col_name]\n",
    "    color = colores[i]\n",
    "    axs[1].plot(x, rs_data, marker='o', linestyle='-', color=color)\n",
    "\n",
    "axs[1].set_xlabel('Tamaño del universo u (escala lineal)')\n",
    "axs[1].set_ylabel('Tiempo de ordenamiento promedio (µs)')\n",
    "axs[1].set_title('Tiempos de ordenamiento promedio de los Algoritmos en función del tamaño del universo')\n",
    "\n",
    "axs[1].set_xscale('linear')\n",
    "axs[1].set_yscale('linear')\n",
    "axs[1].ticklabel_format(style='plain', axis='y')\n",
    "\n",
    "axs[1].legend().set_visible(False)\n",
    "\n",
    "plt.savefig('grafico_doble.pdf')\n",
    "plt.show()"
   ]
  },
  {
   "cell_type": "code",
   "execution_count": null,
   "metadata": {},
   "outputs": [],
   "source": [
    "mejor_k = df.iloc[:, 2:25].idxmin(axis=1)\n",
    "mejor_k_numeric = mejor_k.str.extract('(\\d+)').astype(int)\n",
    "df['mejor_k'] = mejor_k_numeric"
   ]
  },
  {
   "cell_type": "code",
   "execution_count": null,
   "metadata": {},
   "outputs": [],
   "source": [
    "x = df['U']\n",
    "y = df['mejor_k']\n",
    "\n",
    "plt.figure(figsize=(10, 6))\n",
    "plt.plot(x, y, marker='o',  color='b', linestyle='-')\n",
    "plt.xlabel('Tamaño del universo (u)')\n",
    "plt.ylabel('k')\n",
    "plt.title('Mejor valor de k en función del tamaño del universo')\n",
    "plt.xscale('log', base=2)\n",
    "y_min = int(min(y))\n",
    "y_max = int(max(y))\n",
    "y_ticks = list(range(y_min, y_max + 1))\n",
    "plt.yticks(y_ticks)\n",
    "plt.grid(True)\n",
    "plt.savefig('grafico_k.pdf')\n",
    "plt.show()"
   ]
  }
 ],
 "metadata": {
  "kernelspec": {
   "display_name": "Python 3",
   "language": "python",
   "name": "python3"
  },
  "language_info": {
   "codemirror_mode": {
    "name": "ipython",
    "version": 3
   },
   "file_extension": ".py",
   "mimetype": "text/x-python",
   "name": "python",
   "nbconvert_exporter": "python",
   "pygments_lexer": "ipython3",
   "version": "3.11.2"
  },
  "orig_nbformat": 4
 },
 "nbformat": 4,
 "nbformat_minor": 2
}
