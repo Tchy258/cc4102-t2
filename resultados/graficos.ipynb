{
 "cells": [
  {
   "cell_type": "markdown",
   "metadata": {},
   "source": [
    "# Graficos"
   ]
  },
  {
   "cell_type": "code",
   "execution_count": null,
   "metadata": {},
   "outputs": [],
   "source": [
    "import pandas as pd\n",
    "import numpy as np\n",
    "import seaborn as sns\n",
    "import matplotlib.pyplot as plt\n",
    "from matplotlib.font_manager import FontProperties\n",
    "import scipy.stats as st\n",
    "from scipy import stats\n",
    "from scipy.stats import linregress\n",
    "import csv\n",
    "import os"
   ]
  },
  {
   "cell_type": "code",
   "execution_count": null,
   "metadata": {},
   "outputs": [],
   "source": [
    "df = pd.read_csv('output.csv', sep=',')"
   ]
  },
  {
   "cell_type": "code",
   "execution_count": null,
   "metadata": {},
   "outputs": [],
   "source": [
    "x = df['U']\n",
    "qs = df['QuickSort']\n",
    "\n",
    "rs_columns = [f'RadixSort k={i}' for i in range(1, 24)]\n",
    "\n",
    "colores = ['b', 'g', 'r', 'c', 'm', 'y', 'k', 'tab:blue', 'tab:orange', 'tab:green',\n",
    "           'tab:red', 'tab:purple', 'tab:brown', 'tab:pink', 'tab:gray', 'tab:olive',\n",
    "           'tab:cyan', 'darkred', 'darkblue', 'darkgreen', 'darkorange', 'indigo', 'violet']\n",
    "\n",
    "\n",
    "plt.figure(figsize=(12, 8))\n",
    "plt.plot(x, qs, marker='o', linestyle='-', label=\"Quick Sort\", color='k')\n",
    "\n",
    "for i, col_name in enumerate(rs_columns):\n",
    "    rs_data = df[col_name]\n",
    "    color = colores[i]\n",
    "    plt.plot(x, rs_data, marker='o', linestyle='-', label=col_name, color=color)\n",
    "\n",
    "legend_font = FontProperties(size=8)\n",
    "plt.legend(prop=legend_font, loc='center left', bbox_to_anchor=(1, 0.5))\n",
    "\n",
    "plt.xlabel('Tamaño del universo (u)')\n",
    "plt.ylabel('Tiempo de búsqueda promedio (µs)')\n",
    "plt.title('Tiempos de búsqueda promedio de Algoritmos de ordenamiento en función del tamaño de entrada')\n",
    "\n",
    "plt.savefig('grafico_radixsort.pdf')\n",
    "plt.show()"
   ]
  }
 ],
 "metadata": {
  "kernelspec": {
   "display_name": "Python 3",
   "language": "python",
   "name": "python3"
  },
  "language_info": {
   "codemirror_mode": {
    "name": "ipython",
    "version": 3
   },
   "file_extension": ".py",
   "mimetype": "text/x-python",
   "name": "python",
   "nbconvert_exporter": "python",
   "pygments_lexer": "ipython3",
   "version": "3.11.2"
  },
  "orig_nbformat": 4
 },
 "nbformat": 4,
 "nbformat_minor": 2
}
