{
 "cells": [
  {
   "cell_type": "markdown",
   "metadata": {},
   "source": [
    "# Graficos"
   ]
  },
  {
   "cell_type": "code",
   "execution_count": null,
   "metadata": {},
   "outputs": [],
   "source": [
    "import pandas as pd\n",
    "import numpy as np\n",
    "import seaborn as sns\n",
    "import matplotlib.pyplot as plt\n",
    "from matplotlib.font_manager import FontProperties\n",
    "import scipy.stats as st\n",
    "from scipy import stats\n",
    "from scipy.stats import linregress\n",
    "import csv\n",
    "import os"
   ]
  },
  {
   "cell_type": "code",
   "execution_count": null,
   "metadata": {},
   "outputs": [],
   "source": [
    "df = pd.read_csv('results.csv', sep=',')"
   ]
  },
  {
   "cell_type": "code",
   "execution_count": null,
   "metadata": {},
   "outputs": [],
   "source": [
    "filas = df.shape[0] + 1"
   ]
  },
  {
   "cell_type": "code",
   "execution_count": null,
   "metadata": {},
   "outputs": [],
   "source": [
    "x = df['U']\n",
    "qs = df['QuickSort']\n",
    "\n",
    "rs_columns = [f'RadixSort k={i}' for i in range(1, 24)]\n",
    "\n",
    "colores = ['b', 'g', 'r', 'c', 'm', 'palegreen', 'tab:blue', 'tab:orange', 'tab:green',\n",
    "           'tab:red', 'tab:purple', 'tab:brown', 'tab:pink', 'tab:gray', 'tab:olive',\n",
    "           'tab:cyan', 'darkred', 'darkblue', 'darkgreen', 'darkorange', 'indigo', 'violet', 'gold']\n",
    "\n",
    "\n",
    "plt.figure(figsize=(12, 9))\n",
    "plt.plot(x, qs, marker='o', linestyle='-', label=\"QuickSort\", color='k')\n",
    "\n",
    "for i, col_name in enumerate(rs_columns):\n",
    "    rs_data = df[col_name]\n",
    "    color = colores[i]\n",
    "    plt.plot(x, rs_data, marker='o', linestyle='-', label=col_name, color=color)\n",
    "\n",
    "legend_font = FontProperties(size=8)\n",
    "plt.legend(prop=legend_font, loc='center left', bbox_to_anchor=(1, 0.5))\n",
    "\n",
    "plt.xlabel('Tamaño del universo (u)')\n",
    "plt.ylabel('Tiempo de búsqueda promedio (µs)')\n",
    "plt.title('Tiempos de búsqueda promedio de Algoritmos de ordenamiento en función del tamaño del universo')\n",
    "\n",
    "\n",
    "plt.xscale('log', base=2)\n",
    "custom_xticks = 2 ** np.arange(1, filas)\n",
    "plt.xticks(custom_xticks, [f'$2^{{{i}}}$' for i in range(1, filas)])\n",
    "plt.yscale('linear')\n",
    "plt.ticklabel_format(style='plain', axis='y')\n",
    "\n",
    "plt.savefig('grafico_general.pdf')\n",
    "plt.show()"
   ]
  },
  {
   "cell_type": "code",
   "execution_count": null,
   "metadata": {},
   "outputs": [],
   "source": [
    "fig, axs = plt.subplots(1, 2, figsize=(18, 9))\n",
    "\n",
    "axs[0].plot(x, qs, marker='o', linestyle='-', label=\"QuickSort\", color='k')\n",
    "\n",
    "for i, col_name in enumerate(rs_columns):\n",
    "    rs_data = df[col_name]\n",
    "    color = colores[i]\n",
    "    axs[0].plot(x, rs_data, marker='o', linestyle='-', label=col_name, color=color)\n",
    "\n",
    "axs[0].set_xlabel('Tamaño del universo (u)')\n",
    "axs[0].set_ylabel('Tiempo de búsqueda promedio (µs)')\n",
    "axs[0].set_title('Tiempos de búsqueda promedio de Algoritmos de ordenamiento (escala logarítmica)')\n",
    "\n",
    "axs[0].set_xscale('log', base=2)\n",
    "custom_xticks = 2 ** np.arange(1, filas)\n",
    "axs[0].set_xticks(custom_xticks)\n",
    "axs[0].set_xticklabels([f'$2^{{{i}}}$' for i in range(1, filas)])\n",
    "axs[0].set_yscale('linear')\n",
    "axs[0].ticklabel_format(style='plain', axis='y')\n",
    "\n",
    "legend_font = FontProperties(size=8)\n",
    "axs[0].legend(prop=legend_font, loc='upper left')\n",
    "\n",
    "axs[1].plot(x, qs, marker='o', linestyle='-', color='k')\n",
    "\n",
    "for i, col_name in enumerate(rs_columns):\n",
    "    rs_data = df[col_name]\n",
    "    color = colores[i]\n",
    "    axs[1].plot(x, rs_data, marker='o', linestyle='-', color=color)\n",
    "\n",
    "axs[1].set_xlabel('Tamaño del universo (u)')\n",
    "axs[1].set_ylabel('Tiempo de búsqueda promedio (µs)')\n",
    "axs[1].set_title('Tiempos de búsqueda promedio de Algoritmos de ordenamiento (escala lineal)')\n",
    "\n",
    "axs[1].set_xscale('linear')\n",
    "custom_xticks = 2 ** np.arange(1, filas)\n",
    "axs[1].set_xticks(custom_xticks)\n",
    "axs[1].set_xticklabels([f'$2^{{{i}}}$' for i in range(1, filas)])\n",
    "axs[1].set_yscale('linear')\n",
    "axs[1].ticklabel_format(style='plain', axis='y')\n",
    "\n",
    "axs[1].legend().set_visible(False)\n",
    "\n",
    "plt.savefig('grafico_doble.pdf')\n",
    "plt.show()"
   ]
  },
  {
   "cell_type": "code",
   "execution_count": null,
   "metadata": {},
   "outputs": [],
   "source": [
    "mejor_k = df.iloc[:, 2:25].idxmin(axis=1)\n",
    "mejor_k_numeric = mejor_k.str.extract('(\\d+)').astype(int)\n",
    "df['mejor_k'] = mejor_k_numeric"
   ]
  },
  {
   "cell_type": "code",
   "execution_count": null,
   "metadata": {},
   "outputs": [],
   "source": [
    "x = df['U']\n",
    "y = df['mejor_k']\n",
    "\n",
    "plt.figure(figsize=(10, 6))\n",
    "plt.plot(x, y, marker='o',  color='b', linestyle='-')\n",
    "plt.xlabel('Tamaño del universo (u)')\n",
    "plt.ylabel('k')\n",
    "plt.title('Mejor valor de k en función del tamaño del universo')\n",
    "plt.xticks(rotation=45)\n",
    "plt.tight_layout()\n",
    "\n",
    "plt.xscale('log', base=2)\n",
    "custom_xticks = 2 ** np.arange(1, filas)\n",
    "plt.xticks(custom_xticks, [f'$2^{{{i}}}$' for i in range(1, filas)])\n",
    "plt.yscale('linear')\n",
    "\n",
    "\n",
    "plt.savefig('grafico_k.pdf')\n",
    "plt.show()"
   ]
  }
 ],
 "metadata": {
  "kernelspec": {
   "display_name": "Python 3",
   "language": "python",
   "name": "python3"
  },
  "language_info": {
   "codemirror_mode": {
    "name": "ipython",
    "version": 3
   },
   "file_extension": ".py",
   "mimetype": "text/x-python",
   "name": "python",
   "nbconvert_exporter": "python",
   "pygments_lexer": "ipython3",
   "version": "3.11.2"
  },
  "orig_nbformat": 4
 },
 "nbformat": 4,
 "nbformat_minor": 2
}
